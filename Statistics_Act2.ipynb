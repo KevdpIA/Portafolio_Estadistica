{
  "nbformat": 4,
  "nbformat_minor": 0,
  "metadata": {
    "colab": {
      "provenance": []
    },
    "kernelspec": {
      "name": "python3",
      "display_name": "Python 3"
    },
    "language_info": {
      "name": "python"
    }
  },
  "cells": [
    {
      "cell_type": "code",
      "execution_count": null,
      "metadata": {
        "id": "JHWgshftQFnY"
      },
      "outputs": [],
      "source": [
        "import pandas as pd\n",
        "import matplotlib\n",
        "import matplotlib.pyplot as plt\n",
        "import seaborn as sns\n",
        "import numpy as np\n",
        "import openpyxl\n",
        "import statsmodels.api as sm\n",
        "from statsmodels.tsa.stattools import adfuller\n",
        "from statsmodels.tsa.statespace.sarimax import SARIMAX"
      ]
    },
    {
      "cell_type": "code",
      "source": [
        "data = pd.read_excel('Indicadores.xlsx')\n",
        "data = data.sort_values(by='Periodo')\n",
        "data = data.reset_index(drop=True)"
      ],
      "metadata": {
        "id": "iWxVPRE6QtVj"
      },
      "execution_count": null,
      "outputs": []
    },
    {
      "cell_type": "code",
      "source": [
        "data.index = pd.to_datetime(data['Periodo'])\n",
        "data.drop(columns='Periodo',inplace=True)\n",
        "data.head()\n",
        "data"
      ],
      "metadata": {
        "id": "GnBybtupQvm_"
      },
      "execution_count": null,
      "outputs": []
    },
    {
      "cell_type": "code",
      "source": [
        "data.plot()"
      ],
      "metadata": {
        "id": "YA39pr2lQzIb"
      },
      "execution_count": null,
      "outputs": []
    },
    {
      "cell_type": "code",
      "source": [
        "def check_for_stationary(data):\n",
        "\t#X = data['Valor'].values\n",
        "\tX = data.values\n",
        "\tresult = adfuller(X)\n",
        "\tif result[1] <= 0.05:\n",
        "\t\tprint('the variable is stationary')\n",
        "\telse:\n",
        "\t\tprint('the variable is non starionary')\n",
        "\tprint('p_value: '+ str(result[1]))\n",
        "\treturn"
      ],
      "metadata": {
        "id": "eta_WVlbQ1Fx"
      },
      "execution_count": null,
      "outputs": []
    },
    {
      "cell_type": "code",
      "source": [
        "check_for_stationary(data['Valor'])"
      ],
      "metadata": {
        "id": "B54GyXBXQ1sa"
      },
      "execution_count": null,
      "outputs": []
    },
    {
      "cell_type": "code",
      "source": [
        "an_change = np.log(data['Valor']) - np.log(data['Valor'].shift(12))\n",
        "an_change = an_change.dropna()\n",
        "check_for_stationary(an_change)"
      ],
      "metadata": {
        "id": "OLCaBjvdQ5NN"
      },
      "execution_count": null,
      "outputs": []
    },
    {
      "cell_type": "code",
      "source": [
        "sm.graphics.tsa.plot_acf(an_change.values.squeeze(), lags=12)\n",
        "plt.show()"
      ],
      "metadata": {
        "id": "YcGed-64Q8BB"
      },
      "execution_count": null,
      "outputs": []
    },
    {
      "cell_type": "code",
      "source": [
        "sm.graphics.tsa.plot_pacf(an_change.values.squeeze(), lags=12, method=\"ywm\")\n",
        "plt.show()"
      ],
      "metadata": {
        "id": "YYS8NoLbQ-56"
      },
      "execution_count": null,
      "outputs": []
    },
    {
      "cell_type": "markdown",
      "source": [
        "Nota: pacf muestra la autocorrelacion parcial entre la serie y los lags\n",
        "\n",
        "La grafica ACF muestra un decaimiento lento, mientras que la pacf muestra uno muy rapido (inicia con autocorrelacion muy alta en los primeros 2 lags y luego baja hasta cero y negativos). Esto nos dice que el modelo es un AR. \n",
        "\n",
        "Determinar la cantidad de AR (p):\n",
        "- Se determina a partir de los lags significativos en el PACF \n",
        "- p=2    q=0\n",
        "\n",
        "D y d: \n",
        "\n",
        "- Debido a que estoy modelando la diferencia de seasonal (crecimiento anual) tenemos un D=1 y d=0 porque solo se necesitó sacar la 1era diferencia seasonal para volver \"stationary\" nuestro modelo.\n",
        "\n",
        "P y Q = 0\n",
        "\n",
        "we are modelling the seasonal difference of the log, which is the ANNUAL % GROWTH of passengers month by month."
      ],
      "metadata": {
        "id": "ZKTKO3X3RFvv"
      }
    },
    {
      "cell_type": "code",
      "source": [
        "model = SARIMAX(np.log(data['Valor']), order=(2,0,0),seasonal_order =(0,1,0,12),trend='c',simple_differencing=True)\n",
        "history = model.fit()\n",
        "history.summary()"
      ],
      "metadata": {
        "id": "3i3gxdpCRB0Z"
      },
      "execution_count": null,
      "outputs": []
    },
    {
      "cell_type": "markdown",
      "source": [
        "El crecimiento anual del mes pasado impacta en un 75% al crecimiento anual en este mes. El crecimiento anual de hace 2 meses casi no tiene impacto en el crecimiento anual en este mes, ya que solo se relacionan en un 4%.\n",
        "Dicho de otro modo, por cada porciento del crecimiento anual del mes anterior, se espera que el crecimiento anual de este mes crezca un 75%\n",
        "\n",
        "El drift es positivo y muy significativo en el modelo, por lo que se puede notar que el valor crezca con el tiempo\n",
        "\n",
        "Ahora quiero conocer los residuales del modelo, para saber si aun hay algo que se puede tomar en consideración dentro del modelo para mejorar su desempeño. "
      ],
      "metadata": {
        "id": "Renjm8RpReU2"
      }
    },
    {
      "cell_type": "code",
      "source": [
        "residuals = history.resid\n",
        "print(\"aic = \"+ str(history.aic))\n",
        "sm.graphics.tsa.plot_acf(residuals.squeeze(),lags=24)\n",
        "plt.show()"
      ],
      "metadata": {
        "id": "u1G5P66HRmRp"
      },
      "execution_count": null,
      "outputs": []
    },
    {
      "cell_type": "markdown",
      "source": [
        "Es claro que aun hay algo que no se está tomando en cuenta en el modelo, y gracias a la gráfica puedo ver que hay un pico en el lag 12, por lo que debería aumentar un término seasonal anual al modelo"
      ],
      "metadata": {
        "id": "OQ6u6sOxRpvR"
      }
    },
    {
      "cell_type": "code",
      "source": [
        "model2 = SARIMAX(np.log(data['Valor']), order=(2,0,0),seasonal_order =(0,1,1,12),trend='c',simple_differencing=True)\n",
        "history2 = model2.fit()"
      ],
      "metadata": {
        "id": "NAOSM7yLRm-l"
      },
      "execution_count": null,
      "outputs": []
    },
    {
      "cell_type": "code",
      "source": [
        "residuals2 = history2.resid\n",
        "print(\"aic = \"+ str(history2.aic))\n",
        "sm.graphics.tsa.plot_acf(residuals2.squeeze(),lags=24)\n",
        "plt.show()"
      ],
      "metadata": {
        "id": "tqmyqPzLRsRQ"
      },
      "execution_count": null,
      "outputs": []
    },
    {
      "cell_type": "markdown",
      "source": [
        "Si volvemos a ver los residuales notamos que el pico ha desaparecido, lo cual significa que hemos logrado ajustar el modelo"
      ],
      "metadata": {
        "id": "aHBCKcaBRw7a"
      }
    },
    {
      "cell_type": "code",
      "source": [
        "history2.summary()"
      ],
      "metadata": {
        "id": "bGyrNnksRy8P"
      },
      "execution_count": null,
      "outputs": []
    },
    {
      "cell_type": "markdown",
      "source": [
        "Coeficientes:\n",
        "- drift: es sumamente significativo (z = -4.368) y está relacionado con el crecimiento económico anual en un -0.22% \n",
        "- phi 1: tiene alta significancia en el modelo (z=22.477) y está relacionado con el crecimiento económico anual en un 76% , lo que significa que el 76% del crecimiento anual se puede explicar gracias a este coeficiente\n",
        "- phi 2: tiene alta significancia en el modelo (z=3.611) y está relacionado con el crecimiento económico anual en un 12% , lo que significa que el 12% del crecimiento anual se puede explicar gracias a este coeficiente"
      ],
      "metadata": {
        "id": "eAfxEzyORziU"
      }
    },
    {
      "cell_type": "markdown",
      "source": [
        "## Predicciones"
      ],
      "metadata": {
        "id": "Z4TFk9oPR54h"
      }
    },
    {
      "cell_type": "markdown",
      "source": [],
      "metadata": {
        "id": "UE1dhTnsR6Hi"
      }
    },
    {
      "cell_type": "code",
      "source": [
        "data.shape\n",
        "len(data)"
      ],
      "metadata": {
        "id": "acew2I_hR2hj"
      },
      "execution_count": null,
      "outputs": []
    },
    {
      "cell_type": "code",
      "source": [
        "modelFinal = SARIMAX((data['Valor']), order=(2,0,0),seasonal_order =(0,1,1,12),trend='c',simple_differencing=True)\n",
        "historyFinal = modelFinal.fit()\n",
        "historyFinal.summary()"
      ],
      "metadata": {
        "id": "uvs9XNcfR_5Q"
      },
      "execution_count": null,
      "outputs": []
    },
    {
      "cell_type": "code",
      "source": [
        "y = np.log(data['Valor'])\n",
        "y_pred = 0.2520 + 0.7571*data['Valor'].shift(1) + 0.1*data['Valor'].shift(1) - 0.8121*(-0.5/0.8121)\n",
        "data['Pred'] = y_pred"
      ],
      "metadata": {
        "id": "5pzAJ9urSCju"
      },
      "execution_count": null,
      "outputs": []
    },
    {
      "cell_type": "code",
      "source": [
        "data[['Valor','Pred']].plot(figsize=(12,8))"
      ],
      "metadata": {
        "id": "dkC1SyooSGnK"
      },
      "execution_count": null,
      "outputs": []
    }
  ]
}